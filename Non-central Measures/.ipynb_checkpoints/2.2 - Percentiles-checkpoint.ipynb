{
 "cells": [
  {
   "cell_type": "markdown",
   "id": "6e139316-6565-4562-88df-f326b742edec",
   "metadata": {},
   "source": [
    "**2.2 - Percentiles**\n",
    "-----------------\n",
    "-----------------"
   ]
  },
  {
   "cell_type": "markdown",
   "id": "adaf47ea-4017-49ae-9f1d-4e6ea44cee25",
   "metadata": {},
   "source": [
    "Like quartiles, percentiles are statistical measures used to divide a set of ordered data into equal parts, thus representing the percentage of data that is below a specific value in a distribution.\n",
    "\n",
    "The r percentile of a distribution is the value of the variable that leaves r percent of the cases below it and x percent of the cases above it. Pr is indicated.\n",
    "\n",
    "Percentiles are essential tools for understanding the relative position of a value within a data set and for comparing different groups or populations."
   ]
  },
  {
   "cell_type": "code",
   "execution_count": 1,
   "id": "97e220dd-780b-46a8-be3e-f4dcd29e135b",
   "metadata": {},
   "outputs": [],
   "source": [
    "import numpy as np"
   ]
  },
  {
   "cell_type": "code",
   "execution_count": 4,
   "id": "1851efc7-4190-4b88-a129-f8eebafc7b81",
   "metadata": {},
   "outputs": [
    {
     "name": "stdout",
     "output_type": "stream",
     "text": [
      "El percentil 25 es: 18.5\n"
     ]
    }
   ],
   "source": [
    "data = [12, 15, 18, 20, 22, 25, 28, 30, 32, 35]\n",
    "percentil_25 = np.percentile(data, 25)\n",
    "\n",
    "print(\"El percentil 25 es:\", percentil_25)"
   ]
  },
  {
   "cell_type": "code",
   "execution_count": null,
   "id": "f61686a7-0bdc-46b4-9ea7-66582cd0a95f",
   "metadata": {},
   "outputs": [],
   "source": []
  }
 ],
 "metadata": {
  "kernelspec": {
   "display_name": "Python 3 (ipykernel)",
   "language": "python",
   "name": "python3"
  },
  "language_info": {
   "codemirror_mode": {
    "name": "ipython",
    "version": 3
   },
   "file_extension": ".py",
   "mimetype": "text/x-python",
   "name": "python",
   "nbconvert_exporter": "python",
   "pygments_lexer": "ipython3",
   "version": "3.10.9"
  }
 },
 "nbformat": 4,
 "nbformat_minor": 5
}
