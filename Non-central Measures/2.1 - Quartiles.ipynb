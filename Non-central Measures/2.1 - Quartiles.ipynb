{
 "cells": [
  {
   "cell_type": "markdown",
   "id": "857b162a-dfda-47ad-9f81-1fa93412f6c1",
   "metadata": {},
   "source": [
    "2.1 - Quartiles\n",
    "---------------\n",
    "---------------"
   ]
  },
  {
   "cell_type": "markdown",
   "id": "026e79b3-1f1f-4d61-8be1-cd53af12c916",
   "metadata": {},
   "source": [
    "Quartiles are a statistical measure that divides a set of ordered data into **four** equal parts.\n",
    "\n",
    "The quartiles, usually denoted as **Q1**, **Q2** and **Q3**, represent the values ​​that separate the bottom 25%, the middle 50% and the top 25% of the data, respectively.\n",
    "\n",
    "The second quartile, Q2, is simply the **median** of the data set. To better understand quartiles, it is essential to have a prior understanding of the median. The median is the center value of a set of ordered data, that is, it divides the data set into two equal parts: half of the data is above the median and the other half is below it.\n",
    "\n",
    "Quartiles expand on this idea by dividing the ordered data into four equal parts, providing additional information about the **distribution** of the data and the **dispersion** of the values."
   ]
  },
  {
   "cell_type": "markdown",
   "id": "7d001e4d-2010-48e6-ae49-fa5c998b5111",
   "metadata": {},
   "source": [
    "**How to calculate it?**\n",
    "-----------------"
   ]
  },
  {
   "cell_type": "markdown",
   "id": "cadb87ee-42e7-497a-9c98-e8d4dddca018",
   "metadata": {},
   "source": [
    "In general terms, this is the process for calculating quartiles."
   ]
  },
  {
   "cell_type": "markdown",
   "id": "3ce558ba-6aea-4cff-b6f9-7a54c20a2f43",
   "metadata": {},
   "source": [
    "**1. First quartile (Q1):** It is the value that separates the lowest 25% of the data from the highest 75%. Mathematically, if we have a set of ordered data X1, X2, ..., Xn, where Xn is the number of data, then the first quartile is calculated as the value of or equal to X.\n",
    "\n",
    "If the total number of data is odd, Q1 is the value at position (n+1)/4.\n",
    "\n",
    "If the total number of data is even, Q1 is the average of the values ​​at positions n/4 and n/4+1."
   ]
  },
  {
   "cell_type": "markdown",
   "id": "adc7e4c9-5e2d-4f5b-8143-b2d641bdbec0",
   "metadata": {},
   "source": [
    "**Second quartile (Q2):** It is simply the median of the data set. Divide the data into two equal parts: 50% of the data is above Q2 and the other 50% is below Q2."
   ]
  },
  {
   "cell_type": "markdown",
   "id": "ffe80b63-864b-4a0b-8ba2-741697f6d036",
   "metadata": {},
   "source": [
    "**Third quartile (Q3):** It is the value that separates the lowest 75% of the data from the highest 25%. Similar to the first quartile, it is calculated as the value of X such that at least 75% of the data is less than or equal to x.\n",
    "\n",
    "If the total number of data is odd, Q3 is the value at position(3n+1)/4.\n",
    "\n",
    "If the total number of data is even, Q3 is the average of the values at positions 3n/4 and 3n/4+1."
   ]
  },
  {
   "cell_type": "markdown",
   "id": "b1021a3c-765c-4200-aacf-2bfa63ae3612",
   "metadata": {},
   "source": [
    "**Requirements**\n",
    "---------"
   ]
  },
  {
   "cell_type": "markdown",
   "id": "86a53a27-ba93-47f4-a205-c902b52704f7",
   "metadata": {},
   "source": [
    "La variables deben ser de nivel ordinal o superior, para poder calcular los cuartiles de un conjunto de datos."
   ]
  },
  {
   "cell_type": "markdown",
   "id": "a668dde2-cc06-4cc9-b568-1787bc908e50",
   "metadata": {},
   "source": [
    "**Example**\n",
    "---------"
   ]
  },
  {
   "cell_type": "markdown",
   "id": "a1864826-a9cc-4847-a943-475c68c5d1c9",
   "metadata": {},
   "source": [
    "In a university, it is decided to record the number of subjects passed by each first-year student.\n",
    "\n",
    "The result is as follows."
   ]
  },
  {
   "cell_type": "code",
   "execution_count": 42,
   "id": "f43b8851-c4cc-4788-bd13-4255d4cff55f",
   "metadata": {},
   "outputs": [],
   "source": [
    "import pandas as pd\n",
    "import matplotlib.pyplot as plt"
   ]
  },
  {
   "cell_type": "code",
   "execution_count": 43,
   "id": "5f2c220e-bdf1-4e0b-87c8-29cd1614f236",
   "metadata": {},
   "outputs": [
    {
     "data": {
      "text/html": [
       "<div>\n",
       "<style scoped>\n",
       "    .dataframe tbody tr th:only-of-type {\n",
       "        vertical-align: middle;\n",
       "    }\n",
       "\n",
       "    .dataframe tbody tr th {\n",
       "        vertical-align: top;\n",
       "    }\n",
       "\n",
       "    .dataframe thead th {\n",
       "        text-align: right;\n",
       "    }\n",
       "</style>\n",
       "<table border=\"1\" class=\"dataframe\">\n",
       "  <thead>\n",
       "    <tr style=\"text-align: right;\">\n",
       "      <th></th>\n",
       "      <th>N of subjects passed</th>\n",
       "      <th>Absolute Frequency</th>\n",
       "      <th>Accumulated Absolute Frequency</th>\n",
       "      <th>Accumulated Relative Frequency</th>\n",
       "    </tr>\n",
       "  </thead>\n",
       "  <tbody>\n",
       "    <tr>\n",
       "      <th>0</th>\n",
       "      <td>0</td>\n",
       "      <td>30</td>\n",
       "      <td>30</td>\n",
       "      <td>2.608696</td>\n",
       "    </tr>\n",
       "    <tr>\n",
       "      <th>1</th>\n",
       "      <td>1</td>\n",
       "      <td>150</td>\n",
       "      <td>180</td>\n",
       "      <td>15.652174</td>\n",
       "    </tr>\n",
       "    <tr>\n",
       "      <th>2</th>\n",
       "      <td>2</td>\n",
       "      <td>200</td>\n",
       "      <td>380</td>\n",
       "      <td>33.043478</td>\n",
       "    </tr>\n",
       "    <tr>\n",
       "      <th>3</th>\n",
       "      <td>3</td>\n",
       "      <td>300</td>\n",
       "      <td>680</td>\n",
       "      <td>59.130435</td>\n",
       "    </tr>\n",
       "    <tr>\n",
       "      <th>4</th>\n",
       "      <td>4</td>\n",
       "      <td>250</td>\n",
       "      <td>930</td>\n",
       "      <td>80.869565</td>\n",
       "    </tr>\n",
       "    <tr>\n",
       "      <th>5</th>\n",
       "      <td>5</td>\n",
       "      <td>200</td>\n",
       "      <td>1130</td>\n",
       "      <td>98.260870</td>\n",
       "    </tr>\n",
       "    <tr>\n",
       "      <th>6</th>\n",
       "      <td>6</td>\n",
       "      <td>20</td>\n",
       "      <td>1150</td>\n",
       "      <td>100.000000</td>\n",
       "    </tr>\n",
       "  </tbody>\n",
       "</table>\n",
       "</div>"
      ],
      "text/plain": [
       "  N of subjects passed  Absolute Frequency  Accumulated Absolute Frequency  \\\n",
       "0                    0                  30                              30   \n",
       "1                    1                 150                             180   \n",
       "2                    2                 200                             380   \n",
       "3                    3                 300                             680   \n",
       "4                    4                 250                             930   \n",
       "5                    5                 200                            1130   \n",
       "6                    6                  20                            1150   \n",
       "\n",
       "   Accumulated Relative Frequency  \n",
       "0                        2.608696  \n",
       "1                       15.652174  \n",
       "2                       33.043478  \n",
       "3                       59.130435  \n",
       "4                       80.869565  \n",
       "5                       98.260870  \n",
       "6                      100.000000  "
      ]
     },
     "execution_count": 43,
     "metadata": {},
     "output_type": "execute_result"
    }
   ],
   "source": [
    "# Initialize lists with data.\n",
    "data = {'N of subjects passed': ['0', '1', '2', '3','4','5','6'],\n",
    "        'Absolute Frequency': [30, 150, 200, 300, 250, 200, 20]}\n",
    " \n",
    "# Create DataFrame\n",
    "df = pd.DataFrame(data)\n",
    "\n",
    "df['Accumulated Absolute Frequency']=df['Absolute Frequency'].cumsum()\n",
    "\n",
    "df['Accumulated Relative Frequency'] = (df['Accumulated Absolute Frequency'] / df['Absolute Frequency'].sum()) * 100\n",
    " \n",
    "# Print the output.\n",
    "df.head(7)"
   ]
  },
  {
   "cell_type": "code",
   "execution_count": 44,
   "id": "4df44a37-6a37-47c2-9dbb-e14b4e4015c0",
   "metadata": {},
   "outputs": [
    {
     "name": "stdout",
     "output_type": "stream",
     "text": [
      "287.5\n",
      "575.0\n",
      "862.5\n"
     ]
    }
   ],
   "source": [
    "#Lets see how we can calculate de quarters\n",
    "\n",
    "total_cases=df['Absolute Frequency'].sum()\n",
    "\n",
    "Q1=total_cases*0.25\n",
    "Q2=total_cases*0.50\n",
    "Q3=total_cases*0.75\n",
    "\n",
    "print(Q1)\n",
    "print(Q2)\n",
    "print(Q3)"
   ]
  },
  {
   "cell_type": "code",
   "execution_count": 45,
   "id": "da3f6eec-b1c9-4b3a-b472-3312b460877a",
   "metadata": {},
   "outputs": [
    {
     "name": "stdout",
     "output_type": "stream",
     "text": [
      "Category of Q1: 2\n",
      "Category of Q2: 3\n",
      "Category of Q3: 4\n"
     ]
    }
   ],
   "source": [
    "# Function to find the category for a given quartile\n",
    "def find_category_for_quartile(quartile_value, df):\n",
    "    cumulative_sum = 0\n",
    "    category = None\n",
    "    for index, row in df.iterrows():\n",
    "        cumulative_sum += row['Absolute Frequency']\n",
    "        if cumulative_sum >= quartile_value:\n",
    "            category = row['N of subjects passed']\n",
    "            break\n",
    "    return category\n",
    "\n",
    "# Calculate the categories for each quartile\n",
    "category_Q1 = find_category_for_quartile(Q1, df)\n",
    "category_Q2 = find_category_for_quartile(Q2, df)\n",
    "category_Q3 = find_category_for_quartile(Q3, df)\n",
    "\n",
    "print(\"Category of Q1:\", category_Q1)\n",
    "print(\"Category of Q2:\", category_Q2)\n",
    "print(\"Category of Q3:\", category_Q3)"
   ]
  },
  {
   "cell_type": "code",
   "execution_count": null,
   "id": "5f3e85fa",
   "metadata": {},
   "outputs": [],
   "source": []
  }
 ],
 "metadata": {
  "kernelspec": {
   "display_name": "Python 3 (ipykernel)",
   "language": "python",
   "name": "python3"
  },
  "language_info": {
   "codemirror_mode": {
    "name": "ipython",
    "version": 3
   },
   "file_extension": ".py",
   "mimetype": "text/x-python",
   "name": "python",
   "nbconvert_exporter": "python",
   "pygments_lexer": "ipython3",
   "version": "3.10.9"
  }
 },
 "nbformat": 4,
 "nbformat_minor": 5
}
