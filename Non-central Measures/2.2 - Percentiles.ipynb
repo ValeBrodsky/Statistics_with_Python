{
 "cells": [
  {
   "cell_type": "markdown",
   "id": "6e139316-6565-4562-88df-f326b742edec",
   "metadata": {},
   "source": [
    "**2.2 - Percentiles**\n",
    "-----------------\n",
    "-----------------"
   ]
  },
  {
   "cell_type": "markdown",
   "id": "adaf47ea-4017-49ae-9f1d-4e6ea44cee25",
   "metadata": {},
   "source": [
    "Like quartiles, percentiles are statistical measures used to divide a set of ordered data into equal parts, thus representing the percentage of data that is below a specific value in a distribution.\n",
    "\n",
    "The r percentile of a distribution is the value of the variable that leaves r percent of the cases below it and x percent of the cases above it.\n",
    "\n",
    "Percentiles are essential tools for understanding the relative position of a value within a data set and for comparing different groups or populations."
   ]
  },
  {
   "cell_type": "code",
   "execution_count": 16,
   "id": "97e220dd-780b-46a8-be3e-f4dcd29e135b",
   "metadata": {},
   "outputs": [],
   "source": [
    "import numpy as np"
   ]
  },
  {
   "cell_type": "code",
   "execution_count": 28,
   "id": "f5c4288d-d94e-400c-9404-220c317e9098",
   "metadata": {},
   "outputs": [
    {
     "name": "stdout",
     "output_type": "stream",
     "text": [
      "The 10th percentile is: 13\n"
     ]
    }
   ],
   "source": [
    "data = [0, 2, 3, 5, 5, 7, 8, 10, 13, 20]\n",
    "percentil_10 = np.percentile(data, 95, method='closest_observation')\n",
    "\n",
    "print(\"The 10th percentile is:\", percentil_10)"
   ]
  },
  {
   "cell_type": "code",
   "execution_count": null,
   "id": "4add29b0-c410-41fb-ab4c-135cbd24a542",
   "metadata": {},
   "outputs": [],
   "source": []
  }
 ],
 "metadata": {
  "kernelspec": {
   "display_name": "Python 3 (ipykernel)",
   "language": "python",
   "name": "python3"
  },
  "language_info": {
   "codemirror_mode": {
    "name": "ipython",
    "version": 3
   },
   "file_extension": ".py",
   "mimetype": "text/x-python",
   "name": "python",
   "nbconvert_exporter": "python",
   "pygments_lexer": "ipython3",
   "version": "3.10.9"
  }
 },
 "nbformat": 4,
 "nbformat_minor": 5
}
