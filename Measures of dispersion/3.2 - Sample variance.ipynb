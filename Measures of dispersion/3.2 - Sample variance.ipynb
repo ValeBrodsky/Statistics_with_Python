{
 "cells": [
  {
   "cell_type": "markdown",
   "id": "39dd68b5",
   "metadata": {},
   "source": [
    "3.2 - Sample variance\n",
    "-----------------------\n",
    "----------------------"
   ]
  },
  {
   "cell_type": "markdown",
   "id": "90079e48",
   "metadata": {},
   "source": [
    "The variance of a distribution is the sum of the squares of the deviations around the mean, divided by the total number of observations minus one."
   ]
  },
  {
   "cell_type": "markdown",
   "id": "e16e5680",
   "metadata": {},
   "source": [
    "The sample variance formula is defined as:\n",
    "\n",
    "$\n",
    "s^2 = \\frac{\\sum_{i=1}^{n} (x_i - \\bar{x})^2}{n-1}\n",
    "$\n",
    "\n",
    "We say that:\n",
    "\n",
    "- $(s^2)$ is the sample variance.\n",
    "- $(n)$ is the sample size.\n",
    "- $(x_i)$ are the individual values in the sample.\n",
    "- $(\\bar{x})$ is the mean of the sample."
   ]
  },
  {
   "cell_type": "markdown",
   "id": "5e0ec23b",
   "metadata": {},
   "source": [
    "The larger the sample variance, the greater the dispersion of the data."
   ]
  },
  {
   "cell_type": "markdown",
   "id": "fd856941",
   "metadata": {},
   "source": [
    "The sample variance cannot be negative, because it is a sum of squares. Its value can only be equal to zero if all deviations are equal to zero, that is, if all observations coincide with the mean."
   ]
  },
  {
   "cell_type": "markdown",
   "id": "b6152d1c",
   "metadata": {},
   "source": [
    "For obvious reasons, we say that the variance of a constant is zero. If all observations are equal, there is no dispersion."
   ]
  },
  {
   "cell_type": "markdown",
   "id": "a94f04d7",
   "metadata": {},
   "source": [
    "The variance of the sum of two independent variables is the sum of the variance of each of them.\n",
    "V(x+y)=V(x)+V(y)"
   ]
  },
  {
   "cell_type": "markdown",
   "id": "b1202ed4",
   "metadata": {},
   "source": [
    "**Two Problems:**"
   ]
  },
  {
   "cell_type": "markdown",
   "id": "1510d173",
   "metadata": {},
   "source": [
    "When we calculate the variance, the units of measurement are always squared. This can lead to results that don't make much sense. For example, if we are evaluating the errors that students make on an exam, the term errors squared does not make much sense."
   ]
  },
  {
   "cell_type": "markdown",
   "id": "23092f26",
   "metadata": {},
   "source": [
    "There is no clear limit to evaluate the size of the variance. Sometimes a result in the variance calculation may appear large and this may be because there is a large variability in the data. But it may also be because the variable values are large."
   ]
  },
  {
   "cell_type": "markdown",
   "id": "a180afae",
   "metadata": {},
   "source": [
    "**Example 1**"
   ]
  },
  {
   "cell_type": "markdown",
   "id": "dd683191",
   "metadata": {},
   "source": [
    "The website www.fueleconomy.gov contains a wealth of information about the fuel characteristics of various vehicles. In addition to Environmental Protection Agency (EPA) mileage ratings, there are many vehicle users who have reported their own fuel efficiency (mpg) values. Consider the following sample of n = 11 efficiencies for the 2009 Ford Focus."
   ]
  },
  {
   "cell_type": "code",
   "execution_count": 34,
   "id": "da296602",
   "metadata": {},
   "outputs": [],
   "source": [
    "import pandas as pd"
   ]
  },
  {
   "cell_type": "code",
   "execution_count": 35,
   "id": "adafa7d5",
   "metadata": {},
   "outputs": [
    {
     "data": {
      "text/html": [
       "<div>\n",
       "<style scoped>\n",
       "    .dataframe tbody tr th:only-of-type {\n",
       "        vertical-align: middle;\n",
       "    }\n",
       "\n",
       "    .dataframe tbody tr th {\n",
       "        vertical-align: top;\n",
       "    }\n",
       "\n",
       "    .dataframe thead th {\n",
       "        text-align: right;\n",
       "    }\n",
       "</style>\n",
       "<table border=\"1\" class=\"dataframe\">\n",
       "  <thead>\n",
       "    <tr style=\"text-align: right;\">\n",
       "      <th></th>\n",
       "      <th>Car</th>\n",
       "      <th>$x_i$</th>\n",
       "      <th>$x_i - \\overline{x}$</th>\n",
       "      <th>$(x_i - \\overline{x})^2$</th>\n",
       "    </tr>\n",
       "  </thead>\n",
       "  <tbody>\n",
       "    <tr>\n",
       "      <th>0</th>\n",
       "      <td>1</td>\n",
       "      <td>27.3</td>\n",
       "      <td>-5.963636</td>\n",
       "      <td>35.564959</td>\n",
       "    </tr>\n",
       "    <tr>\n",
       "      <th>1</th>\n",
       "      <td>2</td>\n",
       "      <td>27.9</td>\n",
       "      <td>-5.363636</td>\n",
       "      <td>28.768595</td>\n",
       "    </tr>\n",
       "    <tr>\n",
       "      <th>2</th>\n",
       "      <td>3</td>\n",
       "      <td>32.9</td>\n",
       "      <td>-0.363636</td>\n",
       "      <td>0.132231</td>\n",
       "    </tr>\n",
       "    <tr>\n",
       "      <th>3</th>\n",
       "      <td>4</td>\n",
       "      <td>35.2</td>\n",
       "      <td>1.936364</td>\n",
       "      <td>3.749504</td>\n",
       "    </tr>\n",
       "    <tr>\n",
       "      <th>4</th>\n",
       "      <td>5</td>\n",
       "      <td>44.9</td>\n",
       "      <td>11.636364</td>\n",
       "      <td>135.404959</td>\n",
       "    </tr>\n",
       "    <tr>\n",
       "      <th>5</th>\n",
       "      <td>6</td>\n",
       "      <td>39.9</td>\n",
       "      <td>6.636364</td>\n",
       "      <td>44.041322</td>\n",
       "    </tr>\n",
       "    <tr>\n",
       "      <th>6</th>\n",
       "      <td>7</td>\n",
       "      <td>30.0</td>\n",
       "      <td>-3.263636</td>\n",
       "      <td>10.651322</td>\n",
       "    </tr>\n",
       "    <tr>\n",
       "      <th>7</th>\n",
       "      <td>8</td>\n",
       "      <td>29.7</td>\n",
       "      <td>-3.563636</td>\n",
       "      <td>12.699504</td>\n",
       "    </tr>\n",
       "    <tr>\n",
       "      <th>8</th>\n",
       "      <td>9</td>\n",
       "      <td>28.5</td>\n",
       "      <td>-4.763636</td>\n",
       "      <td>22.692231</td>\n",
       "    </tr>\n",
       "    <tr>\n",
       "      <th>9</th>\n",
       "      <td>10</td>\n",
       "      <td>32.0</td>\n",
       "      <td>-1.263636</td>\n",
       "      <td>1.596777</td>\n",
       "    </tr>\n",
       "    <tr>\n",
       "      <th>10</th>\n",
       "      <td>11</td>\n",
       "      <td>37.6</td>\n",
       "      <td>4.336364</td>\n",
       "      <td>18.804050</td>\n",
       "    </tr>\n",
       "  </tbody>\n",
       "</table>\n",
       "</div>"
      ],
      "text/plain": [
       "    Car  $x_i$  $x_i - \\overline{x}$  $(x_i - \\overline{x})^2$\n",
       "0     1   27.3             -5.963636                 35.564959\n",
       "1     2   27.9             -5.363636                 28.768595\n",
       "2     3   32.9             -0.363636                  0.132231\n",
       "3     4   35.2              1.936364                  3.749504\n",
       "4     5   44.9             11.636364                135.404959\n",
       "5     6   39.9              6.636364                 44.041322\n",
       "6     7   30.0             -3.263636                 10.651322\n",
       "7     8   29.7             -3.563636                 12.699504\n",
       "8     9   28.5             -4.763636                 22.692231\n",
       "9    10   32.0             -1.263636                  1.596777\n",
       "10   11   37.6              4.336364                 18.804050"
      ]
     },
     "execution_count": 35,
     "metadata": {},
     "output_type": "execute_result"
    }
   ],
   "source": [
    "data = {'Car': [1, 2, 3, 4, 5, 6, 7, 8, 9, 10, 11],\n",
    "       '$x_i$':[27.3, 27.9, 32.9, 35.2, 44.9, 39.9, 30.0, 29.7, 28.5, 32.0, 37.6]}\n",
    "\n",
    "# Create DataFrame\n",
    "df = pd.DataFrame(data)\n",
    "\n",
    "# Calculate the mean of the sample\n",
    "mean = df['$x_i$'].mean()\n",
    "\n",
    "# Calculate deviations from the mean\n",
    "df['$x_i - \\overline{x}$'] = df['$x_i$'] - mean\n",
    " \n",
    "# Calculate the the square of each deviation around the mean\n",
    "df['$(x_i - \\overline{x})^2$'] = (df['$x_i$'] - mean) ** 2\n",
    "\n",
    "# Print the output.\n",
    "df.head(11)"
   ]
  },
  {
   "cell_type": "code",
   "execution_count": 36,
   "id": "dd382dbb",
   "metadata": {},
   "outputs": [
    {
     "name": "stdout",
     "output_type": "stream",
     "text": [
      "The sum of the squares of the deviations: 314.1054545454545\n"
     ]
    }
   ],
   "source": [
    "#Calculate the sum of the squares of the deviations\n",
    "sum_sq_deviations = df['$(x_i - \\overline{x})^2$'].sum()\n",
    "\n",
    "print(\"The sum of the squares of the deviations:\", sum_sq_deviations)"
   ]
  },
  {
   "cell_type": "code",
   "execution_count": 37,
   "id": "dd21c2df",
   "metadata": {},
   "outputs": [
    {
     "name": "stdout",
     "output_type": "stream",
     "text": [
      "Sample variance: 31.41054545454545\n"
     ]
    }
   ],
   "source": [
    "# Calculate the sample variance\n",
    "sample_variance = df['$(x_i - \\overline{x})^2$'].sum() / (len(df) - 1)\n",
    "\n",
    "print(\"Sample variance:\", sample_variance)"
   ]
  },
  {
   "cell_type": "markdown",
   "id": "baae239d",
   "metadata": {},
   "source": [
    "There is a python library that allows us to summarize all these steps and work faster."
   ]
  },
  {
   "cell_type": "code",
   "execution_count": 38,
   "id": "155f9fcd",
   "metadata": {},
   "outputs": [
    {
     "name": "stdout",
     "output_type": "stream",
     "text": [
      "Variance of sample set is 31.410545454545453\n"
     ]
    }
   ],
   "source": [
    "# Importing Statistics module\n",
    "import statistics\n",
    "\n",
    "# This function will automatically calculate\n",
    "# it's mean and set it as xbar\n",
    "print(\"Variance of sample set is % s\"\n",
    "      %(statistics.variance(df['$x_i$'])))"
   ]
  },
  {
   "cell_type": "code",
   "execution_count": null,
   "id": "ff93f768",
   "metadata": {},
   "outputs": [],
   "source": []
  }
 ],
 "metadata": {
  "kernelspec": {
   "display_name": "Python 3 (ipykernel)",
   "language": "python",
   "name": "python3"
  },
  "language_info": {
   "codemirror_mode": {
    "name": "ipython",
    "version": 3
   },
   "file_extension": ".py",
   "mimetype": "text/x-python",
   "name": "python",
   "nbconvert_exporter": "python",
   "pygments_lexer": "ipython3",
   "version": "3.10.9"
  }
 },
 "nbformat": 4,
 "nbformat_minor": 5
}
