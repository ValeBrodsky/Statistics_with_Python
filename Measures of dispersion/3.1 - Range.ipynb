{
 "cells": [
  {
   "cell_type": "markdown",
   "id": "f1307261",
   "metadata": {},
   "source": [
    "3.1 - Range\n",
    "-----------------------\n",
    "-----------------------"
   ]
  },
  {
   "cell_type": "markdown",
   "id": "a3277d7d",
   "metadata": {},
   "source": [
    "Dispersion measures are fundamental tools that allow us to understand the variability or dispersion of a data set.\n",
    "\n",
    "While measures of central tendency, such as the mean, median, and mode, provide us with information about the typical or central value of a set of data, measures of dispersion reveal how these data are spread around those central values."
   ]
  },
  {
   "cell_type": "markdown",
   "id": "d67ebd92",
   "metadata": {},
   "source": [
    "The simplest measure of variability in a sample is the range, which is the difference between the largest and smallest sample value.\n",
    "\n",
    "A shortcoming of the range, however, is that it depends on only the two most extreme observations and ignores the positions of the remaining values."
   ]
  },
  {
   "cell_type": "markdown",
   "id": "1f9b9275",
   "metadata": {},
   "source": [
    "**Example 1**"
   ]
  },
  {
   "cell_type": "code",
   "execution_count": 33,
   "id": "dae4e6ce",
   "metadata": {},
   "outputs": [],
   "source": [
    "import pandas as pd\n",
    "import matplotlib.pyplot as plt\n",
    "import numpy as np"
   ]
  },
  {
   "cell_type": "code",
   "execution_count": 34,
   "id": "316352dc",
   "metadata": {},
   "outputs": [
    {
     "data": {
      "text/html": [
       "<div>\n",
       "<style scoped>\n",
       "    .dataframe tbody tr th:only-of-type {\n",
       "        vertical-align: middle;\n",
       "    }\n",
       "\n",
       "    .dataframe tbody tr th {\n",
       "        vertical-align: top;\n",
       "    }\n",
       "\n",
       "    .dataframe thead th {\n",
       "        text-align: right;\n",
       "    }\n",
       "</style>\n",
       "<table border=\"1\" class=\"dataframe\">\n",
       "  <thead>\n",
       "    <tr style=\"text-align: right;\">\n",
       "      <th></th>\n",
       "      <th>Col1</th>\n",
       "      <th>Col2</th>\n",
       "      <th>Col3</th>\n",
       "    </tr>\n",
       "  </thead>\n",
       "  <tbody>\n",
       "    <tr>\n",
       "      <th>0</th>\n",
       "      <td>30</td>\n",
       "      <td>30</td>\n",
       "      <td>42</td>\n",
       "    </tr>\n",
       "    <tr>\n",
       "      <th>1</th>\n",
       "      <td>35</td>\n",
       "      <td>45</td>\n",
       "      <td>45</td>\n",
       "    </tr>\n",
       "    <tr>\n",
       "      <th>2</th>\n",
       "      <td>40</td>\n",
       "      <td>48</td>\n",
       "      <td>48</td>\n",
       "    </tr>\n",
       "    <tr>\n",
       "      <th>3</th>\n",
       "      <td>45</td>\n",
       "      <td>49</td>\n",
       "      <td>49</td>\n",
       "    </tr>\n",
       "    <tr>\n",
       "      <th>4</th>\n",
       "      <td>50</td>\n",
       "      <td>50</td>\n",
       "      <td>50</td>\n",
       "    </tr>\n",
       "    <tr>\n",
       "      <th>5</th>\n",
       "      <td>55</td>\n",
       "      <td>51</td>\n",
       "      <td>51</td>\n",
       "    </tr>\n",
       "    <tr>\n",
       "      <th>6</th>\n",
       "      <td>60</td>\n",
       "      <td>52</td>\n",
       "      <td>52</td>\n",
       "    </tr>\n",
       "  </tbody>\n",
       "</table>\n",
       "</div>"
      ],
      "text/plain": [
       "   Col1  Col2  Col3\n",
       "0    30    30    42\n",
       "1    35    45    45\n",
       "2    40    48    48\n",
       "3    45    49    49\n",
       "4    50    50    50\n",
       "5    55    51    51\n",
       "6    60    52    52"
      ]
     },
     "execution_count": 34,
     "metadata": {},
     "output_type": "execute_result"
    }
   ],
   "source": [
    "data = {'Col1': [30, 35, 40, 45, 50, 55, 60, 65, 70],\n",
    "       'Col2':[30, 45, 48, 49, 50, 51, 52, 55, 70],\n",
    "       'Col3':[42, 45, 48, 49, 50, 51, 52, 55, 58]}\n",
    "\n",
    "# Create DataFrame\n",
    "df = pd.DataFrame(data)\n",
    " \n",
    "# Print the output.\n",
    "df.head(7)"
   ]
  },
  {
   "cell_type": "code",
   "execution_count": 35,
   "id": "967af65a",
   "metadata": {},
   "outputs": [
    {
     "name": "stdout",
     "output_type": "stream",
     "text": [
      "The mean of the first column is: 50.0\n",
      "The mean of the second column is: 50.0\n",
      "The mean of the third column is: 50.0\n"
     ]
    }
   ],
   "source": [
    "# If we limit ourselves to calculating the average of these three columns, we could come to think that they are identical cases.\n",
    "mean1 = df['Col1'].mean()\n",
    "mean2 = df['Col2'].mean()\n",
    "mean3 = df['Col3'].mean()\n",
    "print(\"The mean of the first column is:\", mean1)\n",
    "print(\"The mean of the second column is:\", mean2)\n",
    "print(\"The mean of the third column is:\", mean3)"
   ]
  },
  {
   "cell_type": "markdown",
   "id": "b8b50ce4",
   "metadata": {},
   "source": [
    "In this type of cases, we must complement the use of centrality measures with the use of dispersion measures. If we graph the data in each column, we can see that the spread of the data is clearly different."
   ]
  },
  {
   "cell_type": "code",
   "execution_count": 36,
   "id": "f8fdf766",
   "metadata": {},
   "outputs": [
    {
     "data": {
      "image/png": "[encoded data removed]",
      "text/plain": [
       "<Figure size 640x480 with 1 Axes>"
      ]
     },
     "metadata": {},
     "output_type": "display_data"
    }
   ],
   "source": [
    "# Create a figure and axes\n",
    "fig, ax = plt.subplots()\n",
    "\n",
    "# Number of columns\n",
    "num_cols = len(df.columns)\n",
    "\n",
    "# Separation between lines\n",
    "line_height = 1.0\n",
    "\n",
    "# Draw lines and points\n",
    "for i, col in enumerate(df.columns):\n",
    "    # Calculate the position of y\n",
    "    y = line_height * (i + 1)\n",
    "    \n",
    "    # Draw horizontal line\n",
    "    ax.axhline(y=y, color='gray', linestyle='--')\n",
    "    \n",
    "    # Draw column points\n",
    "    ax.scatter(df[col], np.full_like(df[col], y), label=col)\n",
    "\n",
    "# Configure legend\n",
    "ax.legend()\n",
    "\n",
    "# Adjust axis limits\n",
    "ax.set_ylim(0, line_height * (num_cols + 1))\n",
    "\n",
    "# Axis labels and ticks\n",
    "ax.set_yticks([line_height * (i + 0.5) for i in range(num_cols)])\n",
    "ax.set_yticklabels(df.columns)\n",
    "\n",
    "# Remove x-axis labels\n",
    "#ax.set_xticks([])\n",
    "\n",
    "# Show graph\n",
    "plt.show()"
   ]
  },
  {
   "cell_type": "markdown",
   "id": "566ab6d1",
   "metadata": {},
   "source": [
    "Calculating the range of each column is one possible way to evaluate the dispersion of the data."
   ]
  },
  {
   "cell_type": "code",
   "execution_count": 37,
   "id": "687122ff",
   "metadata": {},
   "outputs": [
    {
     "name": "stdout",
     "output_type": "stream",
     "text": [
      "Range of each column:\n",
      "Col1    40\n",
      "Col2    40\n",
      "Col3    16\n",
      "dtype: int64\n"
     ]
    }
   ],
   "source": [
    "# Calculate the range of each column\n",
    "ranges = df.max() - df.min()\n",
    "\n",
    "# Print the ranges of each column\n",
    "print(\"Range of each column:\")\n",
    "print(ranges)"
   ]
  },
  {
   "cell_type": "markdown",
   "id": "7ec03215",
   "metadata": {},
   "source": [
    "As we can see, column 1 and column 3 have different ranges. In this case, the range helps us analyze what we observed in the graph.\n",
    "\n",
    "However, when we compare the range of column 1 and column 2, we get the same result. The problem with range is that it only takes into account the two most extreme values ​​in each column and leaves out the rest of the information."
   ]
  }
 ],
 "metadata": {
  "kernelspec": {
   "display_name": "Python 3 (ipykernel)",
   "language": "python",
   "name": "python3"
  },
  "language_info": {
   "codemirror_mode": {
    "name": "ipython",
    "version": 3
   },
   "file_extension": ".py",
   "mimetype": "text/x-python",
   "name": "python",
   "nbconvert_exporter": "python",
   "pygments_lexer": "ipython3",
   "version": "3.10.9"
  }
 },
 "nbformat": 4,
 "nbformat_minor": 5
}
