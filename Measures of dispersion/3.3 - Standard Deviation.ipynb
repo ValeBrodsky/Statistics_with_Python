{
 "cells": [
  {
   "cell_type": "markdown",
   "id": "086ba9da",
   "metadata": {},
   "source": [
    "3.3 - Standard Deviation\n",
    "-----------------------\n",
    "-----------------------"
   ]
  },
  {
   "cell_type": "markdown",
   "id": "0e150c76",
   "metadata": {},
   "source": [
    "The formula for the standard deviation is:\n",
    "\n",
    "$s = \\sqrt{\\frac{\\sum_{i=1}^{n} (x_i - \\bar{x})^2}{n-1}}$\n",
    "\n",
    "We say that:\n",
    "\n",
    "- $(s)$ is the standard deviation.\n",
    "- $(n)$ is the sample size.\n",
    "- $(x_i)$ are the individual values in the sample.\n",
    "- $(\\bar{x})$ is the mean of the sample."
   ]
  },
  {
   "cell_type": "markdown",
   "id": "b06c8c86",
   "metadata": {},
   "source": [
    "As we can see, the standard deviation is just the square root of the variance. Its symbol is the letter \"s\""
   ]
  },
  {
   "cell_type": "code",
   "execution_count": 7,
   "id": "bef1765d",
   "metadata": {},
   "outputs": [],
   "source": [
    "import pandas as pd\n",
    "import numpy as np\n",
    "import statistics"
   ]
  },
  {
   "cell_type": "code",
   "execution_count": 4,
   "id": "9ba3566f",
   "metadata": {},
   "outputs": [
    {
     "data": {
      "text/html": [
       "<div>\n",
       "<style scoped>\n",
       "    .dataframe tbody tr th:only-of-type {\n",
       "        vertical-align: middle;\n",
       "    }\n",
       "\n",
       "    .dataframe tbody tr th {\n",
       "        vertical-align: top;\n",
       "    }\n",
       "\n",
       "    .dataframe thead th {\n",
       "        text-align: right;\n",
       "    }\n",
       "</style>\n",
       "<table border=\"1\" class=\"dataframe\">\n",
       "  <thead>\n",
       "    <tr style=\"text-align: right;\">\n",
       "      <th></th>\n",
       "      <th>Car</th>\n",
       "      <th>$x_i$</th>\n",
       "    </tr>\n",
       "  </thead>\n",
       "  <tbody>\n",
       "    <tr>\n",
       "      <th>0</th>\n",
       "      <td>1</td>\n",
       "      <td>27.3</td>\n",
       "    </tr>\n",
       "    <tr>\n",
       "      <th>1</th>\n",
       "      <td>2</td>\n",
       "      <td>27.9</td>\n",
       "    </tr>\n",
       "    <tr>\n",
       "      <th>2</th>\n",
       "      <td>3</td>\n",
       "      <td>32.9</td>\n",
       "    </tr>\n",
       "    <tr>\n",
       "      <th>3</th>\n",
       "      <td>4</td>\n",
       "      <td>35.2</td>\n",
       "    </tr>\n",
       "    <tr>\n",
       "      <th>4</th>\n",
       "      <td>5</td>\n",
       "      <td>44.9</td>\n",
       "    </tr>\n",
       "    <tr>\n",
       "      <th>5</th>\n",
       "      <td>6</td>\n",
       "      <td>39.9</td>\n",
       "    </tr>\n",
       "    <tr>\n",
       "      <th>6</th>\n",
       "      <td>7</td>\n",
       "      <td>30.0</td>\n",
       "    </tr>\n",
       "    <tr>\n",
       "      <th>7</th>\n",
       "      <td>8</td>\n",
       "      <td>29.7</td>\n",
       "    </tr>\n",
       "    <tr>\n",
       "      <th>8</th>\n",
       "      <td>9</td>\n",
       "      <td>28.5</td>\n",
       "    </tr>\n",
       "    <tr>\n",
       "      <th>9</th>\n",
       "      <td>10</td>\n",
       "      <td>32.0</td>\n",
       "    </tr>\n",
       "    <tr>\n",
       "      <th>10</th>\n",
       "      <td>11</td>\n",
       "      <td>37.6</td>\n",
       "    </tr>\n",
       "  </tbody>\n",
       "</table>\n",
       "</div>"
      ],
      "text/plain": [
       "    Car  $x_i$\n",
       "0     1   27.3\n",
       "1     2   27.9\n",
       "2     3   32.9\n",
       "3     4   35.2\n",
       "4     5   44.9\n",
       "5     6   39.9\n",
       "6     7   30.0\n",
       "7     8   29.7\n",
       "8     9   28.5\n",
       "9    10   32.0\n",
       "10   11   37.6"
      ]
     },
     "execution_count": 4,
     "metadata": {},
     "output_type": "execute_result"
    }
   ],
   "source": [
    "data = {'Car': [1, 2, 3, 4, 5, 6, 7, 8, 9, 10, 11],\n",
    "       '$x_i$':[27.3, 27.9, 32.9, 35.2, 44.9, 39.9, 30.0, 29.7, 28.5, 32.0, 37.6]}\n",
    "\n",
    "# Create DataFrame\n",
    "df = pd.DataFrame(data)\n",
    "\n",
    "\n",
    "# Print the output.\n",
    "df.head(11)"
   ]
  },
  {
   "cell_type": "markdown",
   "id": "25609c73",
   "metadata": {},
   "source": [
    "Numpy offers us the std method to calculate the standard deviation."
   ]
  },
  {
   "cell_type": "code",
   "execution_count": 10,
   "id": "b3173468",
   "metadata": {},
   "outputs": [
    {
     "data": {
      "text/plain": [
       "5.343691731594745"
      ]
     },
     "execution_count": 10,
     "metadata": {},
     "output_type": "execute_result"
    }
   ],
   "source": [
    "np.std(df['$x_i$'])"
   ]
  },
  {
   "cell_type": "markdown",
   "id": "fe6e7f87",
   "metadata": {},
   "source": [
    "The Statistics library uses the stdev method for this operation and its result is a little more precise."
   ]
  },
  {
   "cell_type": "code",
   "execution_count": 8,
   "id": "235c5a82",
   "metadata": {},
   "outputs": [
    {
     "data": {
      "text/plain": [
       "5.604511169990247"
      ]
     },
     "execution_count": 8,
     "metadata": {},
     "output_type": "execute_result"
    }
   ],
   "source": [
    "statistics.stdev(df['$x_i$'])"
   ]
  },
  {
   "cell_type": "markdown",
   "id": "e7b24adf",
   "metadata": {},
   "source": []
  }
 ],
 "metadata": {
  "kernelspec": {
   "display_name": "Python 3 (ipykernel)",
   "language": "python",
   "name": "python3"
  },
  "language_info": {
   "codemirror_mode": {
    "name": "ipython",
    "version": 3
   },
   "file_extension": ".py",
   "mimetype": "text/x-python",
   "name": "python",
   "nbconvert_exporter": "python",
   "pygments_lexer": "ipython3",
   "version": "3.10.9"
  }
 },
 "nbformat": 4,
 "nbformat_minor": 5
}
