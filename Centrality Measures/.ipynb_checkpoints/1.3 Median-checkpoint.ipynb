{
 "cells": [
  {
   "cell_type": "markdown",
   "id": "82d4a38f-ee73-4d80-9a7c-9ba9455cf10f",
   "metadata": {},
   "source": [
    "1.3 - Median\n",
    "----\n",
    "----"
   ]
  },
  {
   "cell_type": "markdown",
   "id": "17dac638-2748-41ce-aa0a-547ceadec79f",
   "metadata": {},
   "source": [
    "*Definition*"
   ]
  },
  {
   "cell_type": "markdown",
   "id": "942512f6-cf11-4d25-9556-ca792273ebd4",
   "metadata": {},
   "source": [
    "The median in statistics is a measure of central tendency that represents the middle value of a dataset when it is ordered from smallest to largest. It divides the dataset into two equal halves: half of the data points are less than or equal to the median, and the other half are greater than or equal to the median. \n",
    "\n",
    "If the dataset has an odd number of observations, the median is the middle value. \n",
    "\n",
    "If the dataset has an even number of observations, the median is the average of the two middle values."
   ]
  },
  {
   "cell_type": "markdown",
   "id": "1e2a8637-1f63-4a96-b78c-114fb44fe788",
   "metadata": {},
   "source": [
    "*Example 1*"
   ]
  },
  {
   "cell_type": "markdown",
   "id": "135eda65-f42a-4177-aec9-191a06c00deb",
   "metadata": {},
   "source": [
    "Suppose a hospital has 9 patients. Each patient has received a certain number of consultations in the psychiatric service. We need to calculate what the median of that distribution is."
   ]
  },
  {
   "cell_type": "code",
   "execution_count": 1,
   "id": "b1cae5d6-05f0-4a37-ab1c-9aa7d76d9dc6",
   "metadata": {},
   "outputs": [],
   "source": [
    "# Import pandas library\n",
    "import pandas as pd\n",
    "import matplotlib.pyplot as plt"
   ]
  },
  {
   "cell_type": "code",
   "execution_count": 2,
   "id": "45d39ecb-77a1-4b87-82bb-bcbfb07bd793",
   "metadata": {},
   "outputs": [
    {
     "data": {
      "text/html": [
       "<div>\n",
       "<style scoped>\n",
       "    .dataframe tbody tr th:only-of-type {\n",
       "        vertical-align: middle;\n",
       "    }\n",
       "\n",
       "    .dataframe tbody tr th {\n",
       "        vertical-align: top;\n",
       "    }\n",
       "\n",
       "    .dataframe thead th {\n",
       "        text-align: right;\n",
       "    }\n",
       "</style>\n",
       "<table border=\"1\" class=\"dataframe\">\n",
       "  <thead>\n",
       "    <tr style=\"text-align: right;\">\n",
       "      <th></th>\n",
       "      <th>Patient</th>\n",
       "      <th>Qty Visits</th>\n",
       "    </tr>\n",
       "  </thead>\n",
       "  <tbody>\n",
       "    <tr>\n",
       "      <th>0</th>\n",
       "      <td>Patient_1</td>\n",
       "      <td>2</td>\n",
       "    </tr>\n",
       "    <tr>\n",
       "      <th>1</th>\n",
       "      <td>Patient_2</td>\n",
       "      <td>2</td>\n",
       "    </tr>\n",
       "    <tr>\n",
       "      <th>2</th>\n",
       "      <td>Patient_3</td>\n",
       "      <td>3</td>\n",
       "    </tr>\n",
       "    <tr>\n",
       "      <th>3</th>\n",
       "      <td>Patient_4</td>\n",
       "      <td>5</td>\n",
       "    </tr>\n",
       "    <tr>\n",
       "      <th>4</th>\n",
       "      <td>Patient_5</td>\n",
       "      <td>7</td>\n",
       "    </tr>\n",
       "    <tr>\n",
       "      <th>5</th>\n",
       "      <td>Patient_6</td>\n",
       "      <td>10</td>\n",
       "    </tr>\n",
       "    <tr>\n",
       "      <th>6</th>\n",
       "      <td>Patient_7</td>\n",
       "      <td>15</td>\n",
       "    </tr>\n",
       "    <tr>\n",
       "      <th>7</th>\n",
       "      <td>Patient_8</td>\n",
       "      <td>19</td>\n",
       "    </tr>\n",
       "    <tr>\n",
       "      <th>8</th>\n",
       "      <td>Patient_9</td>\n",
       "      <td>50</td>\n",
       "    </tr>\n",
       "  </tbody>\n",
       "</table>\n",
       "</div>"
      ],
      "text/plain": [
       "     Patient  Qty Visits\n",
       "0  Patient_1           2\n",
       "1  Patient_2           2\n",
       "2  Patient_3           3\n",
       "3  Patient_4           5\n",
       "4  Patient_5           7\n",
       "5  Patient_6          10\n",
       "6  Patient_7          15\n",
       "7  Patient_8          19\n",
       "8  Patient_9          50"
      ]
     },
     "execution_count": 2,
     "metadata": {},
     "output_type": "execute_result"
    }
   ],
   "source": [
    "# First, we initialize a list of lists\n",
    "data = [['Patient_1', 2], ['Patient_2', 2], ['Patient_3', 3], ['Patient_4', 5], ['Patient_5', 7], ['Patient_6', 10],\n",
    "        ['Patient_7', 15], ['Patient_8', 19], ['Patient_9', 50]]\n",
    " \n",
    "# Then, we create a pandas DataFrame. We use \"columns\" to specify the columns names\n",
    "df = pd.DataFrame(data, columns=['Patient', 'Qty Visits'])\n",
    " \n",
    "# print dataframe.\n",
    "df.head(9)"
   ]
  },
  {
   "cell_type": "code",
   "execution_count": 3,
   "id": "e963a179-6f3f-4e58-856a-4977d19adcf2",
   "metadata": {},
   "outputs": [
    {
     "name": "stdout",
     "output_type": "stream",
     "text": [
      "Median of Qty Visits: 7.0\n"
     ]
    }
   ],
   "source": [
    "# Calculate the median of 'Qty Visits'\n",
    "median = df['Qty Visits'].median()\n",
    "print(\"Median of Qty Visits:\", median)"
   ]
  },
  {
   "cell_type": "markdown",
   "id": "9d2460c9-610d-4f6b-9d0a-8ded8e8242ec",
   "metadata": {},
   "source": [
    "In this example, the value 7 leaves 50% of the data below and above. This occurs because we have an odd number of cases (n=9)."
   ]
  },
  {
   "cell_type": "markdown",
   "id": "58bb86ec-d103-430b-9f6f-015422f8b8fa",
   "metadata": {},
   "source": [
    "*Example 2*"
   ]
  },
  {
   "cell_type": "markdown",
   "id": "0953e656-9b60-4a13-9732-6b0787311800",
   "metadata": {},
   "source": [
    "Suppose we have a system to classify households in our city, based on their socioeconomic level. When touring an area of ​​the city, we have counted the number of homes that belong to each of the categories.\n",
    "\n",
    "We are asked to find the median for that distribution of the data."
   ]
  },
  {
   "cell_type": "code",
   "execution_count": 4,
   "id": "fbb9e92a-7d99-4aa2-b7a5-8ad8a3f7b8eb",
   "metadata": {},
   "outputs": [
    {
     "data": {
      "text/html": [
       "<div>\n",
       "<style scoped>\n",
       "    .dataframe tbody tr th:only-of-type {\n",
       "        vertical-align: middle;\n",
       "    }\n",
       "\n",
       "    .dataframe tbody tr th {\n",
       "        vertical-align: top;\n",
       "    }\n",
       "\n",
       "    .dataframe thead th {\n",
       "        text-align: right;\n",
       "    }\n",
       "</style>\n",
       "<table border=\"1\" class=\"dataframe\">\n",
       "  <thead>\n",
       "    <tr style=\"text-align: right;\">\n",
       "      <th></th>\n",
       "      <th>Socioeconomic level</th>\n",
       "      <th>Qty homes</th>\n",
       "      <th>Cumulative Frequency</th>\n",
       "    </tr>\n",
       "  </thead>\n",
       "  <tbody>\n",
       "    <tr>\n",
       "      <th>0</th>\n",
       "      <td>Poor</td>\n",
       "      <td>40</td>\n",
       "      <td>40</td>\n",
       "    </tr>\n",
       "    <tr>\n",
       "      <th>1</th>\n",
       "      <td>Low</td>\n",
       "      <td>100</td>\n",
       "      <td>140</td>\n",
       "    </tr>\n",
       "    <tr>\n",
       "      <th>2</th>\n",
       "      <td>Medium-Low</td>\n",
       "      <td>120</td>\n",
       "      <td>260</td>\n",
       "    </tr>\n",
       "    <tr>\n",
       "      <th>3</th>\n",
       "      <td>Medium</td>\n",
       "      <td>150</td>\n",
       "      <td>410</td>\n",
       "    </tr>\n",
       "    <tr>\n",
       "      <th>4</th>\n",
       "      <td>High</td>\n",
       "      <td>30</td>\n",
       "      <td>440</td>\n",
       "    </tr>\n",
       "  </tbody>\n",
       "</table>\n",
       "</div>"
      ],
      "text/plain": [
       "  Socioeconomic level  Qty homes  Cumulative Frequency\n",
       "0                Poor         40                    40\n",
       "1                 Low        100                   140\n",
       "2          Medium-Low        120                   260\n",
       "3              Medium        150                   410\n",
       "4                High         30                   440"
      ]
     },
     "execution_count": 4,
     "metadata": {},
     "output_type": "execute_result"
    }
   ],
   "source": [
    "# First, we initialize a list of lists\n",
    "data = [['Poor', 40], ['Low', 100], ['Medium-Low', 120], ['Medium', 150], ['High', 30]]\n",
    " \n",
    "# Then, we create a pandas DataFrame. We use \"columns\" to specify the columns names\n",
    "df = pd.DataFrame(data, columns=['Socioeconomic level', 'Qty homes'])\n",
    "\n",
    "# Calculate the cumulative frequency and add it as a new column\n",
    "df['Cumulative Frequency'] = df['Qty homes'].cumsum()\n",
    " \n",
    "# print dataframe.\n",
    "df.head(9)"
   ]
  },
  {
   "cell_type": "code",
   "execution_count": 5,
   "id": "47b4b945-5ae8-4502-a35d-0f2cf845b6fa",
   "metadata": {},
   "outputs": [],
   "source": [
    "# Calculate the total number of households\n",
    "total_homes = df['Qty homes'].sum()"
   ]
  },
  {
   "cell_type": "code",
   "execution_count": 6,
   "id": "220f80ca-0571-4705-8e3f-80f0a7467b71",
   "metadata": {},
   "outputs": [],
   "source": [
    "# Calculate the total median\n",
    "median = total_homes/2"
   ]
  },
  {
   "cell_type": "code",
   "execution_count": 7,
   "id": "d36a9b2f-3f64-4c02-9162-475a6b0d571c",
   "metadata": {},
   "outputs": [
    {
     "name": "stdout",
     "output_type": "stream",
     "text": [
      "Total Qty homes: 440\n",
      "The median is: 220.0\n",
      "Category of median: Medium-Low\n"
     ]
    }
   ],
   "source": [
    "# Calculate the median\n",
    "cumulative_sum = 0\n",
    "median_category = None\n",
    "for index, row in df.iterrows():\n",
    "    cumulative_sum += row['Qty homes']\n",
    "    if cumulative_sum >= total_homes / 2:\n",
    "        median_category = row['Socioeconomic level']\n",
    "        break\n",
    "\n",
    "print(\"Total Qty homes:\", total_homes)\n",
    "print(\"The median is:\", median)\n",
    "print(\"Category of median:\", median_category)"
   ]
  },
  {
   "cell_type": "markdown",
   "id": "8d3191ee-55be-461f-94ba-b9c893ecbb1b",
   "metadata": {},
   "source": [
    "In this case we can see that the median is 220. If we look at the column called \"Cumulative frequency\", we will see that 220 is included within the range covered by the \"Medium-low\" category. That range starts at 141 and ends at 260."
   ]
  },
  {
   "cell_type": "code",
   "execution_count": 48,
   "id": "041ade77-eb54-424a-b50a-d54554e87f0d",
   "metadata": {},
   "outputs": [
    {
     "data": {
      "image/png": "[encoded data removed]",
      "text/plain": [
       "<Figure size 1200x700 with 2 Axes>"
      ]
     },
     "metadata": {},
     "output_type": "display_data"
    }
   ],
   "source": [
    "# Plotting\n",
    "fig, ax1 = plt.subplots(figsize=(12, 7))# Adjust figure size\n",
    "\n",
    "# Plotting the bar chart for quantity of homes per socioeconomic level\n",
    "ax1.bar(df['Socioeconomic level'], df['Qty homes'], color='b', alpha=0.5)\n",
    "ax1.set_xlabel('Socioeconomic Level')\n",
    "ax1.set_ylabel('Qty homes', color='b')\n",
    "ax1.tick_params('y', colors='b')\n",
    "\n",
    "# Creating a secondary y-axis to plot the cumulative frequency\n",
    "ax2 = ax1.twinx()\n",
    "ax2.plot(df['Socioeconomic level'], df['Cumulative Frequency'], color='r', marker='o')\n",
    "ax2.set_ylabel('Cumulative Frequency', color='r')\n",
    "ax2.tick_params('y', colors='r')\n",
    "\n",
    "# Adding horizontal line for median\n",
    "ax2.axhline(y=median, color='g', linestyle='--', label='Median')\n",
    "\n",
    "# Annotating median value on the graph\n",
    "ax2.text(df['Socioeconomic level'].iloc[-1], median, f'Median: {median:.1f}', ha='right', va='bottom', color='g')\n",
    "\n",
    "# Adding legend\n",
    "ax1.legend(['Qty homes'], loc='upper left')\n",
    "ax2.legend(['Cumulative Frequency', 'Median'], loc='upper right')\n",
    "\n",
    "plt.title('Distribution of Socioeconomic Levels and Cumulative Frequency')\n",
    "plt.xticks(rotation=45)\n",
    "plt.tight_layout()\n",
    "plt.show()"
   ]
  },
  {
   "cell_type": "code",
   "execution_count": null,
   "id": "dc0a6118-fd08-4854-953c-e98b968b699c",
   "metadata": {},
   "outputs": [],
   "source": []
  }
 ],
 "metadata": {
  "kernelspec": {
   "display_name": "Python 3 (ipykernel)",
   "language": "python",
   "name": "python3"
  },
  "language_info": {
   "codemirror_mode": {
    "name": "ipython",
    "version": 3
   },
   "file_extension": ".py",
   "mimetype": "text/x-python",
   "name": "python",
   "nbconvert_exporter": "python",
   "pygments_lexer": "ipython3",
   "version": "3.10.9"
  }
 },
 "nbformat": 4,
 "nbformat_minor": 5
}
