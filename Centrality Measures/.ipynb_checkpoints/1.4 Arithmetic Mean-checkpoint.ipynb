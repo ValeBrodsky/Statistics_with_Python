{
 "cells": [
  {
   "cell_type": "markdown",
   "id": "26cf746a-25fb-4b17-a56f-11ab0391a83f",
   "metadata": {},
   "source": [
    "1.3 - Mean\n",
    "----"
   ]
  },
  {
   "cell_type": "markdown",
   "id": "f561195a-4c85-44ed-a0dc-40c4abde0f7c",
   "metadata": {},
   "source": [
    "*Definition*"
   ]
  },
  {
   "cell_type": "markdown",
   "id": "9b5bb9e6-89bc-4cf8-98e7-f04fc80114b4",
   "metadata": {},
   "source": [
    "In the field of statistics, the term \"mean\" refers to a measure of central tendency that represents the typical or average value of a set of data.\n",
    "\n",
    "The mean is calculated by adding all the values ​​in the data set and then dividing this sum by the total number of values.\n",
    "\n",
    "It is a useful measure for understanding the central or representative value of a data set and is widely used in statistical analysis and decision making.\n",
    "\n",
    "The mean can be influenced by extreme values ​​in the data set, so it is important to take into account the context and consider other measures of central tendency, such as the median and mode, to obtain a complete understanding of the distribution of the data. ."
   ]
  },
  {
   "cell_type": "markdown",
   "id": "fcb6738b-e9f3-46d6-ac48-a821d67ec271",
   "metadata": {},
   "source": [
    "**Case 1: The mean for simple series of numbers**"
   ]
  },
  {
   "cell_type": "markdown",
   "id": "20e138b1-539c-4158-b8bd-397631c7ace9",
   "metadata": {},
   "source": [
    "Suppose a person wants to calculate the average salary he has received in the last semester.\n",
    "\n",
    "The calculation is quite simple."
   ]
  },
  {
   "cell_type": "code",
   "execution_count": 1,
   "id": "ee249125-4519-4e04-b844-d74eab9ac6d6",
   "metadata": {},
   "outputs": [
    {
     "name": "stdout",
     "output_type": "stream",
     "text": [
      "The average salary for this semester is: 283.3333333333333\n"
     ]
    }
   ],
   "source": [
    "jan = 200\n",
    "feb = 225\n",
    "mar = 250\n",
    "apr = 275\n",
    "may = 350\n",
    "jun = 400\n",
    "\n",
    "months = 6\n",
    "\n",
    "mean = (jan+feb+mar+apr+may+jun)/months\n",
    "print(\"The average salary for this semester is:\",mean)"
   ]
  },
  {
   "cell_type": "markdown",
   "id": "551fd3d5-fb0c-4908-9303-25bd4dbd7f6a",
   "metadata": {},
   "source": [
    "**Case 2: The mean of a frequency distribution**"
   ]
  },
  {
   "cell_type": "markdown",
   "id": "6276c5ad-03f9-4259-8c16-4d9094f2dc6a",
   "metadata": {},
   "source": [
    "In a university, it is decided to record the number of subjects passed by each first-year student.\n",
    "\n",
    "The result is as follows."
   ]
  },
  {
   "cell_type": "code",
   "execution_count": 2,
   "id": "0eb8fc74-a7aa-490d-a6ae-00e20329fba8",
   "metadata": {},
   "outputs": [],
   "source": [
    "import pandas as pd"
   ]
  },
  {
   "cell_type": "code",
   "execution_count": 6,
   "id": "2dc3c82d-3162-4e6b-b1b3-6a861138ac07",
   "metadata": {},
   "outputs": [
    {
     "data": {
      "text/html": [
       "<div>\n",
       "<style scoped>\n",
       "    .dataframe tbody tr th:only-of-type {\n",
       "        vertical-align: middle;\n",
       "    }\n",
       "\n",
       "    .dataframe tbody tr th {\n",
       "        vertical-align: top;\n",
       "    }\n",
       "\n",
       "    .dataframe thead th {\n",
       "        text-align: right;\n",
       "    }\n",
       "</style>\n",
       "<table border=\"1\" class=\"dataframe\">\n",
       "  <thead>\n",
       "    <tr style=\"text-align: right;\">\n",
       "      <th></th>\n",
       "      <th>N of subjects passed</th>\n",
       "      <th>frequecy</th>\n",
       "    </tr>\n",
       "  </thead>\n",
       "  <tbody>\n",
       "    <tr>\n",
       "      <th>0</th>\n",
       "      <td>0</td>\n",
       "      <td>30</td>\n",
       "    </tr>\n",
       "    <tr>\n",
       "      <th>1</th>\n",
       "      <td>1</td>\n",
       "      <td>150</td>\n",
       "    </tr>\n",
       "    <tr>\n",
       "      <th>2</th>\n",
       "      <td>2</td>\n",
       "      <td>200</td>\n",
       "    </tr>\n",
       "    <tr>\n",
       "      <th>3</th>\n",
       "      <td>3</td>\n",
       "      <td>300</td>\n",
       "    </tr>\n",
       "    <tr>\n",
       "      <th>4</th>\n",
       "      <td>4</td>\n",
       "      <td>250</td>\n",
       "    </tr>\n",
       "    <tr>\n",
       "      <th>5</th>\n",
       "      <td>5</td>\n",
       "      <td>200</td>\n",
       "    </tr>\n",
       "    <tr>\n",
       "      <th>6</th>\n",
       "      <td>6</td>\n",
       "      <td>20</td>\n",
       "    </tr>\n",
       "  </tbody>\n",
       "</table>\n",
       "</div>"
      ],
      "text/plain": [
       "  N of subjects passed  frequecy\n",
       "0                    0        30\n",
       "1                    1       150\n",
       "2                    2       200\n",
       "3                    3       300\n",
       "4                    4       250\n",
       "5                    5       200\n",
       "6                    6        20"
      ]
     },
     "execution_count": 6,
     "metadata": {},
     "output_type": "execute_result"
    }
   ],
   "source": [
    "# initialize data of lists.\n",
    "data = {'N of subjects passed': ['0', '1', '2', '3','4','5','6'],\n",
    "        'frequecy': [30, 150, 200, 300, 250, 200, 20]}\n",
    " \n",
    "# Create DataFrame\n",
    "df = pd.DataFrame(data)\n",
    " \n",
    "# Print the output.\n",
    "df.head(7)"
   ]
  },
  {
   "cell_type": "markdown",
   "id": "50220aba-e4a9-44f3-a0ca-7ba7720ce519",
   "metadata": {},
   "source": [
    "In this case, we can see that the value \"0\" is repeated 30 times. This indicates that there are 30 students who did not pass any subject. We could say something similar about the remaining elements of the table.\n",
    "\n",
    "Let's see how the average is calculated in this case."
   ]
  },
  {
   "cell_type": "code",
   "execution_count": 9,
   "id": "3f3d02ec-8d23-4ca9-9a6a-513ccd5616e3",
   "metadata": {},
   "outputs": [
    {
     "name": "stdout",
     "output_type": "stream",
     "text": [
      "The mean is: 3.1043478260869564\n"
     ]
    }
   ],
   "source": [
    "# Convert column to numeric\n",
    "df['N of subjects passed'] = pd.to_numeric(df['N of subjects passed'])\n",
    "\n",
    "# Calculate the mean\n",
    "mean = (df['N of subjects passed'] * df['frequecy']).sum() / df['frequecy'].sum()\n",
    "print(\"The mean is:\", mean)"
   ]
  },
  {
   "cell_type": "markdown",
   "id": "ff8f849e-3e44-46c5-ba2b-7122e36b2915",
   "metadata": {},
   "source": [
    "We can do it manually"
   ]
  },
  {
   "cell_type": "code",
   "execution_count": 10,
   "id": "440a956e-dfb2-493d-b02a-590425ab1947",
   "metadata": {},
   "outputs": [
    {
     "name": "stdout",
     "output_type": "stream",
     "text": [
      "The mean is: 3.1043478260869564\n"
     ]
    }
   ],
   "source": [
    "mean = (0*30+1*150+2*200+3*300+4*250+5*200+6*20)/1150\n",
    "print(\"The mean is:\",mean)"
   ]
  },
  {
   "cell_type": "markdown",
   "id": "3ab3f543-6b43-4fb8-89d0-c777a20a1614",
   "metadata": {},
   "source": [
    "**Case 3: Frequency distribution with data grouped into ranges**"
   ]
  },
  {
   "cell_type": "markdown",
   "id": "f9f11a59-3214-404c-ad20-bb467789c66f",
   "metadata": {},
   "source": [
    "In the previous case, each category was linked to a value. But sometimes we have to work with categories that represent a set of values.\n",
    "\n",
    "When we work with intervals, we have to start by identifying its upper limit, its lower limit and the corresponding class mark. \n",
    "\n",
    "The concept \"class mark\" refers to the average between the lower and upper limit."
   ]
  },
  {
   "cell_type": "markdown",
   "id": "bb9cb8c6-0c37-450b-ba92-0709ce9e58ae",
   "metadata": {},
   "source": [
    "In the following example, we can observe the way in which the salaries of a company's workers are distributed within different intervals. There are different numbers of workers within each salary range."
   ]
  },
  {
   "cell_type": "code",
   "execution_count": 3,
   "id": "f8469797-9a07-4580-96ff-8b6603e360ec",
   "metadata": {},
   "outputs": [
    {
     "data": {
      "text/html": [
       "<div>\n",
       "<style scoped>\n",
       "    .dataframe tbody tr th:only-of-type {\n",
       "        vertical-align: middle;\n",
       "    }\n",
       "\n",
       "    .dataframe tbody tr th {\n",
       "        vertical-align: top;\n",
       "    }\n",
       "\n",
       "    .dataframe thead th {\n",
       "        text-align: right;\n",
       "    }\n",
       "</style>\n",
       "<table border=\"1\" class=\"dataframe\">\n",
       "  <thead>\n",
       "    <tr style=\"text-align: right;\">\n",
       "      <th></th>\n",
       "      <th>Lower Limit</th>\n",
       "      <th>Upper Limit</th>\n",
       "      <th>Number of Employees</th>\n",
       "    </tr>\n",
       "  </thead>\n",
       "  <tbody>\n",
       "    <tr>\n",
       "      <th>0</th>\n",
       "      <td>0</td>\n",
       "      <td>10</td>\n",
       "      <td>5</td>\n",
       "    </tr>\n",
       "    <tr>\n",
       "      <th>1</th>\n",
       "      <td>10</td>\n",
       "      <td>20</td>\n",
       "      <td>15</td>\n",
       "    </tr>\n",
       "    <tr>\n",
       "      <th>2</th>\n",
       "      <td>20</td>\n",
       "      <td>30</td>\n",
       "      <td>25</td>\n",
       "    </tr>\n",
       "    <tr>\n",
       "      <th>3</th>\n",
       "      <td>30</td>\n",
       "      <td>40</td>\n",
       "      <td>30</td>\n",
       "    </tr>\n",
       "    <tr>\n",
       "      <th>4</th>\n",
       "      <td>40</td>\n",
       "      <td>50</td>\n",
       "      <td>25</td>\n",
       "    </tr>\n",
       "    <tr>\n",
       "      <th>5</th>\n",
       "      <td>50</td>\n",
       "      <td>60</td>\n",
       "      <td>10</td>\n",
       "    </tr>\n",
       "  </tbody>\n",
       "</table>\n",
       "</div>"
      ],
      "text/plain": [
       "   Lower Limit  Upper Limit  Number of Employees\n",
       "0            0           10                    5\n",
       "1           10           20                   15\n",
       "2           20           30                   25\n",
       "3           30           40                   30\n",
       "4           40           50                   25\n",
       "5           50           60                   10"
      ]
     },
     "execution_count": 3,
     "metadata": {},
     "output_type": "execute_result"
    }
   ],
   "source": [
    "# initialize data of lists.\n",
    "data = {'Lower Limit': [0, 10, 20, 30, 40, 50],\n",
    "        'Upper Limit': [10, 20, 30, 40, 50, 60],\n",
    "        'Number of Employees': [5, 15, 25, 30, 25, 10]}\n",
    " \n",
    "# Create DataFrame\n",
    "df = pd.DataFrame(data)\n",
    " \n",
    "# Print the output.\n",
    "df.head(7)"
   ]
  },
  {
   "cell_type": "code",
   "execution_count": 11,
   "id": "73cb60aa-55b0-4960-a30d-ad1862042efd",
   "metadata": {},
   "outputs": [
    {
     "data": {
      "text/html": [
       "<div>\n",
       "<style scoped>\n",
       "    .dataframe tbody tr th:only-of-type {\n",
       "        vertical-align: middle;\n",
       "    }\n",
       "\n",
       "    .dataframe tbody tr th {\n",
       "        vertical-align: top;\n",
       "    }\n",
       "\n",
       "    .dataframe thead th {\n",
       "        text-align: right;\n",
       "    }\n",
       "</style>\n",
       "<table border=\"1\" class=\"dataframe\">\n",
       "  <thead>\n",
       "    <tr style=\"text-align: right;\">\n",
       "      <th></th>\n",
       "      <th>Lower Limit</th>\n",
       "      <th>Upper Limit</th>\n",
       "      <th>Number of Employees</th>\n",
       "      <th>Mark of class</th>\n",
       "    </tr>\n",
       "  </thead>\n",
       "  <tbody>\n",
       "    <tr>\n",
       "      <th>0</th>\n",
       "      <td>0</td>\n",
       "      <td>10</td>\n",
       "      <td>5</td>\n",
       "      <td>5.0</td>\n",
       "    </tr>\n",
       "    <tr>\n",
       "      <th>1</th>\n",
       "      <td>10</td>\n",
       "      <td>20</td>\n",
       "      <td>15</td>\n",
       "      <td>15.0</td>\n",
       "    </tr>\n",
       "    <tr>\n",
       "      <th>2</th>\n",
       "      <td>20</td>\n",
       "      <td>30</td>\n",
       "      <td>25</td>\n",
       "      <td>25.0</td>\n",
       "    </tr>\n",
       "    <tr>\n",
       "      <th>3</th>\n",
       "      <td>30</td>\n",
       "      <td>40</td>\n",
       "      <td>30</td>\n",
       "      <td>35.0</td>\n",
       "    </tr>\n",
       "    <tr>\n",
       "      <th>4</th>\n",
       "      <td>40</td>\n",
       "      <td>50</td>\n",
       "      <td>25</td>\n",
       "      <td>45.0</td>\n",
       "    </tr>\n",
       "    <tr>\n",
       "      <th>5</th>\n",
       "      <td>50</td>\n",
       "      <td>60</td>\n",
       "      <td>10</td>\n",
       "      <td>55.0</td>\n",
       "    </tr>\n",
       "  </tbody>\n",
       "</table>\n",
       "</div>"
      ],
      "text/plain": [
       "   Lower Limit  Upper Limit  Number of Employees  Mark of class\n",
       "0            0           10                    5            5.0\n",
       "1           10           20                   15           15.0\n",
       "2           20           30                   25           25.0\n",
       "3           30           40                   30           35.0\n",
       "4           40           50                   25           45.0\n",
       "5           50           60                   10           55.0"
      ]
     },
     "execution_count": 11,
     "metadata": {},
     "output_type": "execute_result"
    }
   ],
   "source": [
    "# Calculate the mark of class\n",
    "df['Mark of class'] = (df['Upper Limit']+df['Lower Limit'])/2\n",
    "df.head(6)"
   ]
  },
  {
   "cell_type": "code",
   "execution_count": 8,
   "id": "dd4ff0e5-3d38-44c4-b946-b98c3d539c0e",
   "metadata": {},
   "outputs": [
    {
     "name": "stdout",
     "output_type": "stream",
     "text": [
      "The mean is: 32.72727272727273\n"
     ]
    }
   ],
   "source": [
    "# Calculate the mean\n",
    "mean = (df['Number of Employees'] * df['Mark of class']).sum() / df['Number of Employees'].sum()\n",
    "print(\"The mean is:\", mean)"
   ]
  },
  {
   "cell_type": "code",
   "execution_count": 12,
   "id": "cdafeaa8-9076-4728-ac6b-6317be9747e0",
   "metadata": {},
   "outputs": [
    {
     "name": "stdout",
     "output_type": "stream",
     "text": [
      "The mean is: 32.72727272727273\n"
     ]
    }
   ],
   "source": [
    "mean = (5*5+15*15+25*25+30*35+25*45+10*55)/110\n",
    "print(\"The mean is:\", mean)"
   ]
  },
  {
   "cell_type": "code",
   "execution_count": null,
   "id": "a69bb948-077c-4808-aaf1-ec2a9b06f9aa",
   "metadata": {},
   "outputs": [],
   "source": []
  }
 ],
 "metadata": {
  "kernelspec": {
   "display_name": "Python 3 (ipykernel)",
   "language": "python",
   "name": "python3"
  },
  "language_info": {
   "codemirror_mode": {
    "name": "ipython",
    "version": 3
   },
   "file_extension": ".py",
   "mimetype": "text/x-python",
   "name": "python",
   "nbconvert_exporter": "python",
   "pygments_lexer": "ipython3",
   "version": "3.10.9"
  }
 },
 "nbformat": 4,
 "nbformat_minor": 5
}
