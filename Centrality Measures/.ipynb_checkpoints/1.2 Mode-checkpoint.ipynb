{
 "cells": [
  {
   "cell_type": "code",
   "execution_count": 31,
   "id": "9a0f6b05-8b96-40bc-98da-d635b3d92f02",
   "metadata": {},
   "outputs": [],
   "source": [
    "# Import pandas library\n",
    "import pandas as pd\n",
    "import matplotlib.pyplot as plt"
   ]
  },
  {
   "cell_type": "markdown",
   "id": "c26506bd-ec69-49d0-ba17-927e87686ba4",
   "metadata": {},
   "source": [
    "*1 - For nominal variables*\n",
    "--------"
   ]
  },
  {
   "cell_type": "markdown",
   "id": "4321a41a-44ee-477a-972b-da21ee67dc0d",
   "metadata": {},
   "source": [
    "1.1 Proportions\n",
    "------"
   ]
  },
  {
   "cell_type": "code",
   "execution_count": 6,
   "id": "bc015804-b30c-40fa-b031-38c0b46d254e",
   "metadata": {},
   "outputs": [
    {
     "data": {
      "text/html": [
       "<div>\n",
       "<style scoped>\n",
       "    .dataframe tbody tr th:only-of-type {\n",
       "        vertical-align: middle;\n",
       "    }\n",
       "\n",
       "    .dataframe tbody tr th {\n",
       "        vertical-align: top;\n",
       "    }\n",
       "\n",
       "    .dataframe thead th {\n",
       "        text-align: right;\n",
       "    }\n",
       "</style>\n",
       "<table border=\"1\" class=\"dataframe\">\n",
       "  <thead>\n",
       "    <tr style=\"text-align: right;\">\n",
       "      <th></th>\n",
       "      <th>Name</th>\n",
       "      <th>Sales</th>\n",
       "    </tr>\n",
       "  </thead>\n",
       "  <tbody>\n",
       "    <tr>\n",
       "      <th>0</th>\n",
       "      <td>Client_1</td>\n",
       "      <td>10</td>\n",
       "    </tr>\n",
       "    <tr>\n",
       "      <th>1</th>\n",
       "      <td>Client_2</td>\n",
       "      <td>50</td>\n",
       "    </tr>\n",
       "    <tr>\n",
       "      <th>2</th>\n",
       "      <td>Client_3</td>\n",
       "      <td>20</td>\n",
       "    </tr>\n",
       "  </tbody>\n",
       "</table>\n",
       "</div>"
      ],
      "text/plain": [
       "       Name  Sales\n",
       "0  Client_1     10\n",
       "1  Client_2     50\n",
       "2  Client_3     20"
      ]
     },
     "execution_count": 6,
     "metadata": {},
     "output_type": "execute_result"
    }
   ],
   "source": [
    "# First, we initialize a list of lists\n",
    "data = [['Client_1', 10], ['Client_2', 50], ['Client_3', 20]]\n",
    " \n",
    "# Then, we create a pandas DataFrame. We use \"columns\" to specify the columns names\n",
    "df = pd.DataFrame(data, columns=['Name', 'Sales'])\n",
    " \n",
    "# print dataframe.\n",
    "df.head()"
   ]
  },
  {
   "cell_type": "code",
   "execution_count": 7,
   "id": "288775ad-7934-42eb-ad06-a280cc2e5f5f",
   "metadata": {},
   "outputs": [
    {
     "data": {
      "text/html": [
       "<div>\n",
       "<style scoped>\n",
       "    .dataframe tbody tr th:only-of-type {\n",
       "        vertical-align: middle;\n",
       "    }\n",
       "\n",
       "    .dataframe tbody tr th {\n",
       "        vertical-align: top;\n",
       "    }\n",
       "\n",
       "    .dataframe thead th {\n",
       "        text-align: right;\n",
       "    }\n",
       "</style>\n",
       "<table border=\"1\" class=\"dataframe\">\n",
       "  <thead>\n",
       "    <tr style=\"text-align: right;\">\n",
       "      <th></th>\n",
       "      <th>Name</th>\n",
       "      <th>Sales</th>\n",
       "      <th>Relative Frequency</th>\n",
       "    </tr>\n",
       "  </thead>\n",
       "  <tbody>\n",
       "    <tr>\n",
       "      <th>0</th>\n",
       "      <td>Client_1</td>\n",
       "      <td>10</td>\n",
       "      <td>0.125</td>\n",
       "    </tr>\n",
       "    <tr>\n",
       "      <th>1</th>\n",
       "      <td>Client_2</td>\n",
       "      <td>50</td>\n",
       "      <td>0.625</td>\n",
       "    </tr>\n",
       "    <tr>\n",
       "      <th>2</th>\n",
       "      <td>Client_3</td>\n",
       "      <td>20</td>\n",
       "      <td>0.250</td>\n",
       "    </tr>\n",
       "  </tbody>\n",
       "</table>\n",
       "</div>"
      ],
      "text/plain": [
       "       Name  Sales  Relative Frequency\n",
       "0  Client_1     10               0.125\n",
       "1  Client_2     50               0.625\n",
       "2  Client_3     20               0.250"
      ]
     },
     "execution_count": 7,
     "metadata": {},
     "output_type": "execute_result"
    }
   ],
   "source": [
    "# Calculate the relative frequency and add it as a new column\n",
    "df['Relative Frequency'] = df['Sales'] / df['Sales'].sum()\n",
    "df.head()"
   ]
  },
  {
   "cell_type": "code",
   "execution_count": 8,
   "id": "a70d72eb-c0e6-484a-989e-2496b81bf9d5",
   "metadata": {},
   "outputs": [
    {
     "data": {
      "text/html": [
       "<div>\n",
       "<style scoped>\n",
       "    .dataframe tbody tr th:only-of-type {\n",
       "        vertical-align: middle;\n",
       "    }\n",
       "\n",
       "    .dataframe tbody tr th {\n",
       "        vertical-align: top;\n",
       "    }\n",
       "\n",
       "    .dataframe thead th {\n",
       "        text-align: right;\n",
       "    }\n",
       "</style>\n",
       "<table border=\"1\" class=\"dataframe\">\n",
       "  <thead>\n",
       "    <tr style=\"text-align: right;\">\n",
       "      <th></th>\n",
       "      <th>Name</th>\n",
       "      <th>Sales</th>\n",
       "      <th>Relative Frequency</th>\n",
       "      <th>Cumulative Frequency</th>\n",
       "    </tr>\n",
       "  </thead>\n",
       "  <tbody>\n",
       "    <tr>\n",
       "      <th>0</th>\n",
       "      <td>Client_1</td>\n",
       "      <td>10</td>\n",
       "      <td>0.125</td>\n",
       "      <td>0.125</td>\n",
       "    </tr>\n",
       "    <tr>\n",
       "      <th>1</th>\n",
       "      <td>Client_2</td>\n",
       "      <td>50</td>\n",
       "      <td>0.625</td>\n",
       "      <td>0.750</td>\n",
       "    </tr>\n",
       "    <tr>\n",
       "      <th>2</th>\n",
       "      <td>Client_3</td>\n",
       "      <td>20</td>\n",
       "      <td>0.250</td>\n",
       "      <td>1.000</td>\n",
       "    </tr>\n",
       "  </tbody>\n",
       "</table>\n",
       "</div>"
      ],
      "text/plain": [
       "       Name  Sales  Relative Frequency  Cumulative Frequency\n",
       "0  Client_1     10               0.125                 0.125\n",
       "1  Client_2     50               0.625                 0.750\n",
       "2  Client_3     20               0.250                 1.000"
      ]
     },
     "execution_count": 8,
     "metadata": {},
     "output_type": "execute_result"
    }
   ],
   "source": [
    "# Calculate the cumulative frequency and add it as a new column\n",
    "df['Cumulative Frequency'] = df['Relative Frequency'].cumsum()\n",
    "df.head()"
   ]
  },
  {
   "cell_type": "markdown",
   "id": "1a7dc425-6119-48cd-948c-41ef3d028a71",
   "metadata": {},
   "source": [
    "The cumsum() method in pandas is used to compute the cumulative sum over a Series or DataFrame axis. It calculates the cumulative sum of the elements along a given axis (by default, it calculates the cumulative sum along rows).\n",
    "\n",
    "For example, if you have a DataFrame or Series with numerical values, calling cumsum() will return another Series or DataFrame where each element is the sum of all preceding elements along the specified axis."
   ]
  },
  {
   "cell_type": "markdown",
   "id": "234a3262-1fd9-4b05-9222-a3188248c00f",
   "metadata": {},
   "source": [
    "1.2 - Mode\n",
    "----"
   ]
  },
  {
   "cell_type": "markdown",
   "id": "51cf2607-379e-4df0-8c11-f05716b7ab50",
   "metadata": {},
   "source": [
    "Es el valor de la variable mas frecuentemente observado."
   ]
  },
  {
   "cell_type": "markdown",
   "id": "bf60b31d-a150-488c-90e3-46302d2f297f",
   "metadata": {},
   "source": [
    "Veamos la distribucion de las ventas que poseen una tienda comercial a lo largo de la semana."
   ]
  },
  {
   "cell_type": "code",
   "execution_count": 25,
   "id": "159472a3-ecb9-4d3a-b1d0-8b3ff54e556a",
   "metadata": {},
   "outputs": [
    {
     "data": {
      "text/html": [
       "<div>\n",
       "<style scoped>\n",
       "    .dataframe tbody tr th:only-of-type {\n",
       "        vertical-align: middle;\n",
       "    }\n",
       "\n",
       "    .dataframe tbody tr th {\n",
       "        vertical-align: top;\n",
       "    }\n",
       "\n",
       "    .dataframe thead th {\n",
       "        text-align: right;\n",
       "    }\n",
       "</style>\n",
       "<table border=\"1\" class=\"dataframe\">\n",
       "  <thead>\n",
       "    <tr style=\"text-align: right;\">\n",
       "      <th></th>\n",
       "      <th>Day</th>\n",
       "      <th>Purchase orders</th>\n",
       "    </tr>\n",
       "  </thead>\n",
       "  <tbody>\n",
       "    <tr>\n",
       "      <th>0</th>\n",
       "      <td>Monday</td>\n",
       "      <td>500</td>\n",
       "    </tr>\n",
       "    <tr>\n",
       "      <th>1</th>\n",
       "      <td>Tuesday</td>\n",
       "      <td>50</td>\n",
       "    </tr>\n",
       "    <tr>\n",
       "      <th>2</th>\n",
       "      <td>Wednesday</td>\n",
       "      <td>200</td>\n",
       "    </tr>\n",
       "    <tr>\n",
       "      <th>3</th>\n",
       "      <td>Thursday</td>\n",
       "      <td>323</td>\n",
       "    </tr>\n",
       "    <tr>\n",
       "      <th>4</th>\n",
       "      <td>Friday</td>\n",
       "      <td>78</td>\n",
       "    </tr>\n",
       "    <tr>\n",
       "      <th>5</th>\n",
       "      <td>Saturday</td>\n",
       "      <td>500</td>\n",
       "    </tr>\n",
       "    <tr>\n",
       "      <th>6</th>\n",
       "      <td>Sunday</td>\n",
       "      <td>0</td>\n",
       "    </tr>\n",
       "  </tbody>\n",
       "</table>\n",
       "</div>"
      ],
      "text/plain": [
       "         Day  Purchase orders\n",
       "0     Monday              500\n",
       "1    Tuesday               50\n",
       "2  Wednesday              200\n",
       "3   Thursday              323\n",
       "4     Friday               78\n",
       "5   Saturday              500\n",
       "6     Sunday                0"
      ]
     },
     "execution_count": 25,
     "metadata": {},
     "output_type": "execute_result"
    }
   ],
   "source": [
    "# First, we initialize a list of lists\n",
    "data = [['Monday', 500], ['Tuesday', 50], ['Wednesday', 200], ['Thursday', 323], ['Friday', 78], ['Saturday', 500], ['Sunday', 0]]\n",
    " \n",
    "# Then, we create a pandas DataFrame. We use \"columns\" to specify the columns names\n",
    "df = pd.DataFrame(data, columns=['Day', 'Purchase orders'])\n",
    " \n",
    "# print dataframe.\n",
    "df.head(7)"
   ]
  },
  {
   "cell_type": "code",
   "execution_count": 30,
   "id": "d6429fc0-cfa2-46a7-86fd-f407f335e54b",
   "metadata": {},
   "outputs": [
    {
     "name": "stdout",
     "output_type": "stream",
     "text": [
      "Mode of Purchase orders: 500\n"
     ]
    }
   ],
   "source": [
    "mode = df['Purchase orders'].mode()[0]\n",
    "print(\"Mode of Purchase orders:\", mode)"
   ]
  },
  {
   "cell_type": "code",
   "execution_count": 33,
   "id": "089b85a9-c5c1-43c5-a278-89ea3bf716b4",
   "metadata": {},
   "outputs": [
    {
     "data": {
      "image/png": "[encoded data removed]",
      "text/plain": [
       "<Figure size 640x480 with 1 Axes>"
      ]
     },
     "metadata": {},
     "output_type": "display_data"
    }
   ],
   "source": [
    "# We create a list of days for the x-axis labels\n",
    "days = df['Day'].tolist()\n",
    "\n",
    "# We create the histogram by specifying the x-axis labels\n",
    "plt.bar(days, df['Purchase orders'], color='skyblue')\n",
    "plt.xlabel('Day')\n",
    "plt.ylabel('Purchase orders')\n",
    "plt.title('Distribution of Purchase Orders')\n",
    "plt.xticks(rotation=45)  # We rotated the x-axis labels for clarity\n",
    "plt.axhline(mode, color='r', linestyle='dashed', linewidth=1, label=f'Mode: {mode}') #We create a dotted line to mark the level of the mode\n",
    "plt.legend()\n",
    "plt.show()"
   ]
  },
  {
   "cell_type": "code",
   "execution_count": null,
   "id": "3bf716dc-3eff-4ea0-bfcf-4f1cde395861",
   "metadata": {},
   "outputs": [],
   "source": []
  }
 ],
 "metadata": {
  "kernelspec": {
   "display_name": "Python 3 (ipykernel)",
   "language": "python",
   "name": "python3"
  },
  "language_info": {
   "codemirror_mode": {
    "name": "ipython",
    "version": 3
   },
   "file_extension": ".py",
   "mimetype": "text/x-python",
   "name": "python",
   "nbconvert_exporter": "python",
   "pygments_lexer": "ipython3",
   "version": "3.10.9"
  }
 },
 "nbformat": 4,
 "nbformat_minor": 5
}
